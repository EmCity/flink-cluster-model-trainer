{
 "cells": [
  {
   "cell_type": "code",
   "execution_count": 4,
   "metadata": {
    "collapsed": false
   },
   "outputs": [
    {
     "name": "stdout",
     "output_type": "stream",
     "text": [
      "The length of the original data frame is :  10136\n",
      "The data set is being split into  10 buckets\n",
      "The number n of test buckets is 3\n",
      "Bucket  6 will be used as validation set\n",
      "The test_idx  0\n",
      "The test_end  2\n",
      "The dataset_splitted variable has the type  <class 'list'>\n",
      "Slicing data set from  0  to  2\n",
      "The type of validation set is  <class 'pandas.core.frame.DataFrame'>\n",
      "The length of the validation set is  1013\n",
      "The type of test set is  <class 'pandas.core.frame.DataFrame'>\n",
      "The length of the test set is  3042\n",
      "k is  10\n",
      "range(0, 10)\n",
      "0 <class 'int'>\n",
      "1 <class 'int'>\n",
      "2 <class 'int'>\n",
      "3 <class 'int'>\n",
      "4 <class 'int'>\n",
      "5 <class 'int'>\n",
      "6 <class 'int'>\n",
      "7 <class 'int'>\n",
      "8 <class 'int'>\n",
      "9 <class 'int'>\n",
      "[3, 4, 5, 7, 8, 9]\n",
      "The length of the training set is  6081\n"
     ]
    }
   ],
   "source": [
    "from sklearn import svm, model_selection\n",
    "import src.vector_gen.generateCurrentSituationVector as vecX\n",
    "import src.vector_gen.generate_VectorY as vecY\n",
    "import src.misc.split_train_valid as split\n",
    "import src.misc.paths as path\n",
    "import pandas as pd\n",
    "import numpy as np\n",
    "from sklearn.multioutput import MultiOutputRegressor\n",
    "\n",
    "\n",
    "np.set_printoptions(threshold=np.nan)\n",
    "\n",
    "df = pd.read_csv('../../dataset/training2/trajectories(table_5)_training2.csv')\n",
    "\n",
    "training, validation, testing = split.split_dataset(df)\n",
    "\n",
    "X_train = vecX.generate_x_df(training)\n",
    "Y_train = vecY.generate_VectorY_df(training)\n",
    "\n",
    "X_test = vecX.generate_x_df(testing)\n",
    "Y_test = vecY.generate_VectorY_df(testing)\n",
    "\n",
    "\n",
    "#model\n",
    "\n",
    "from sklearn.multioutput import MultiOutputRegressor\n",
    "\n",
    "clf = svm.SVR(C=30, epsilon=0.005)\n",
    "\n",
    "regr_multi_svr = MultiOutputRegressor(clf)\n",
    "\n",
    "regr_multi_svr.fit(X_train, Y_train)\n",
    "Y_pred= regr_multi_svr.predict(X_test)\n",
    "\n",
    "#print(Y_pred)\n",
    "#print(len(Y_pred))\n",
    "\n",
    "\n",
    "#MAPE\n",
    "\n",
    "from src.misc import evaluation as eval\n",
    "error = eval.mape(Y_pred, Y_test)\n",
    "\n",
    "print(error)\n",
    "print(np.mean(np.array(error)))\n",
    "\n"
   ]
  }
 ],
 "metadata": {
  "kernelspec": {
   "display_name": "Python 3",
   "language": "python",
   "name": "python3"
  }
 },
 "nbformat": 4,
 "nbformat_minor": 2
}
